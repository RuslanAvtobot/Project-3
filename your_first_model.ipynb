{
 "cells": [
  {
   "cell_type": "markdown",
   "metadata": {},
   "source": [
    "# Загрузка Pandas и очистка данных"
   ]
  },
  {
   "cell_type": "code",
   "execution_count": 1,
   "metadata": {},
   "outputs": [],
   "source": [
    "import pandas as pd\n",
    "import numpy as np\n",
    "import re \n",
    "import datetime as DT"
   ]
  },
  {
   "cell_type": "code",
   "execution_count": 2,
   "metadata": {},
   "outputs": [
    {
     "data": {
      "text/html": [
       "<div>\n",
       "<style scoped>\n",
       "    .dataframe tbody tr th:only-of-type {\n",
       "        vertical-align: middle;\n",
       "    }\n",
       "\n",
       "    .dataframe tbody tr th {\n",
       "        vertical-align: top;\n",
       "    }\n",
       "\n",
       "    .dataframe thead th {\n",
       "        text-align: right;\n",
       "    }\n",
       "</style>\n",
       "<table border=\"1\" class=\"dataframe\">\n",
       "  <thead>\n",
       "    <tr style=\"text-align: right;\">\n",
       "      <th></th>\n",
       "      <th>Restaurant_id</th>\n",
       "      <th>City</th>\n",
       "      <th>Cuisine Style</th>\n",
       "      <th>Ranking</th>\n",
       "      <th>Rating</th>\n",
       "      <th>Price Range</th>\n",
       "      <th>Number of Reviews</th>\n",
       "      <th>Reviews</th>\n",
       "      <th>URL_TA</th>\n",
       "      <th>ID_TA</th>\n",
       "    </tr>\n",
       "  </thead>\n",
       "  <tbody>\n",
       "    <tr>\n",
       "      <th>19289</th>\n",
       "      <td>id_6108</td>\n",
       "      <td>London</td>\n",
       "      <td>['Japanese', 'American', 'Asian', 'Korean', 'B...</td>\n",
       "      <td>6117.0</td>\n",
       "      <td>5.0</td>\n",
       "      <td>$</td>\n",
       "      <td>7.0</td>\n",
       "      <td>[['Awesome', 'Fabulous food'], ['12/02/2017', ...</td>\n",
       "      <td>/Restaurant_Review-g186338-d12539657-Reviews-C...</td>\n",
       "      <td>d12539657</td>\n",
       "    </tr>\n",
       "    <tr>\n",
       "      <th>3156</th>\n",
       "      <td>id_953</td>\n",
       "      <td>Hamburg</td>\n",
       "      <td>['Asian', 'Indonesian', 'Halal']</td>\n",
       "      <td>955.0</td>\n",
       "      <td>4.0</td>\n",
       "      <td>$$ - $$$</td>\n",
       "      <td>30.0</td>\n",
       "      <td>[['Hidden beauty', 'No good service and wrong ...</td>\n",
       "      <td>/Restaurant_Review-g187331-d8450304-Reviews-Ja...</td>\n",
       "      <td>d8450304</td>\n",
       "    </tr>\n",
       "    <tr>\n",
       "      <th>15590</th>\n",
       "      <td>id_6056</td>\n",
       "      <td>Barcelona</td>\n",
       "      <td>['European']</td>\n",
       "      <td>6057.0</td>\n",
       "      <td>4.0</td>\n",
       "      <td>NaN</td>\n",
       "      <td>26.0</td>\n",
       "      <td>[[], []]</td>\n",
       "      <td>/Restaurant_Review-g187497-d4479230-Reviews-Fe...</td>\n",
       "      <td>d4479230</td>\n",
       "    </tr>\n",
       "    <tr>\n",
       "      <th>19927</th>\n",
       "      <td>id_1799</td>\n",
       "      <td>Madrid</td>\n",
       "      <td>NaN</td>\n",
       "      <td>1801.0</td>\n",
       "      <td>4.0</td>\n",
       "      <td>NaN</td>\n",
       "      <td>31.0</td>\n",
       "      <td>[['Great choices &amp; fair peices'], ['05/22/2017']]</td>\n",
       "      <td>/Restaurant_Review-g187514-d11278601-Reviews-L...</td>\n",
       "      <td>d11278601</td>\n",
       "    </tr>\n",
       "    <tr>\n",
       "      <th>14028</th>\n",
       "      <td>id_2635</td>\n",
       "      <td>Hamburg</td>\n",
       "      <td>['Indian']</td>\n",
       "      <td>2642.0</td>\n",
       "      <td>3.0</td>\n",
       "      <td>NaN</td>\n",
       "      <td>9.0</td>\n",
       "      <td>[[], []]</td>\n",
       "      <td>/Restaurant_Review-g187331-d3747833-Reviews-Kr...</td>\n",
       "      <td>d3747833</td>\n",
       "    </tr>\n",
       "    <tr>\n",
       "      <th>33948</th>\n",
       "      <td>id_2779</td>\n",
       "      <td>Madrid</td>\n",
       "      <td>NaN</td>\n",
       "      <td>2781.0</td>\n",
       "      <td>4.5</td>\n",
       "      <td>NaN</td>\n",
       "      <td>18.0</td>\n",
       "      <td>[[], []]</td>\n",
       "      <td>/Restaurant_Review-g187514-d5796131-Reviews-Re...</td>\n",
       "      <td>d5796131</td>\n",
       "    </tr>\n",
       "    <tr>\n",
       "      <th>24527</th>\n",
       "      <td>id_9094</td>\n",
       "      <td>Paris</td>\n",
       "      <td>['Indian']</td>\n",
       "      <td>9096.0</td>\n",
       "      <td>4.0</td>\n",
       "      <td>$</td>\n",
       "      <td>12.0</td>\n",
       "      <td>[['Mauritian-Indian subtlety in the food &amp; fr....</td>\n",
       "      <td>/Restaurant_Review-g187147-d8015472-Reviews-Ma...</td>\n",
       "      <td>d8015472</td>\n",
       "    </tr>\n",
       "  </tbody>\n",
       "</table>\n",
       "</div>"
      ],
      "text/plain": [
       "      Restaurant_id       City  \\\n",
       "19289       id_6108     London   \n",
       "3156         id_953    Hamburg   \n",
       "15590       id_6056  Barcelona   \n",
       "19927       id_1799     Madrid   \n",
       "14028       id_2635    Hamburg   \n",
       "33948       id_2779     Madrid   \n",
       "24527       id_9094      Paris   \n",
       "\n",
       "                                           Cuisine Style  Ranking  Rating  \\\n",
       "19289  ['Japanese', 'American', 'Asian', 'Korean', 'B...   6117.0     5.0   \n",
       "3156                    ['Asian', 'Indonesian', 'Halal']    955.0     4.0   \n",
       "15590                                       ['European']   6057.0     4.0   \n",
       "19927                                                NaN   1801.0     4.0   \n",
       "14028                                         ['Indian']   2642.0     3.0   \n",
       "33948                                                NaN   2781.0     4.5   \n",
       "24527                                         ['Indian']   9096.0     4.0   \n",
       "\n",
       "      Price Range  Number of Reviews  \\\n",
       "19289           $                7.0   \n",
       "3156     $$ - $$$               30.0   \n",
       "15590         NaN               26.0   \n",
       "19927         NaN               31.0   \n",
       "14028         NaN                9.0   \n",
       "33948         NaN               18.0   \n",
       "24527           $               12.0   \n",
       "\n",
       "                                                 Reviews  \\\n",
       "19289  [['Awesome', 'Fabulous food'], ['12/02/2017', ...   \n",
       "3156   [['Hidden beauty', 'No good service and wrong ...   \n",
       "15590                                           [[], []]   \n",
       "19927  [['Great choices & fair peices'], ['05/22/2017']]   \n",
       "14028                                           [[], []]   \n",
       "33948                                           [[], []]   \n",
       "24527  [['Mauritian-Indian subtlety in the food & fr....   \n",
       "\n",
       "                                                  URL_TA      ID_TA  \n",
       "19289  /Restaurant_Review-g186338-d12539657-Reviews-C...  d12539657  \n",
       "3156   /Restaurant_Review-g187331-d8450304-Reviews-Ja...   d8450304  \n",
       "15590  /Restaurant_Review-g187497-d4479230-Reviews-Fe...   d4479230  \n",
       "19927  /Restaurant_Review-g187514-d11278601-Reviews-L...  d11278601  \n",
       "14028  /Restaurant_Review-g187331-d3747833-Reviews-Kr...   d3747833  \n",
       "33948  /Restaurant_Review-g187514-d5796131-Reviews-Re...   d5796131  \n",
       "24527  /Restaurant_Review-g187147-d8015472-Reviews-Ma...   d8015472  "
      ]
     },
     "execution_count": 2,
     "metadata": {},
     "output_type": "execute_result"
    }
   ],
   "source": [
    "df = pd.read_csv('main_task.csv')\n",
    "df.sample(7)"
   ]
  },
  {
   "cell_type": "code",
   "execution_count": 3,
   "metadata": {},
   "outputs": [
    {
     "name": "stdout",
     "output_type": "stream",
     "text": [
      "<class 'pandas.core.frame.DataFrame'>\n",
      "RangeIndex: 40000 entries, 0 to 39999\n",
      "Data columns (total 10 columns):\n",
      " #   Column             Non-Null Count  Dtype  \n",
      "---  ------             --------------  -----  \n",
      " 0   Restaurant_id      40000 non-null  object \n",
      " 1   City               40000 non-null  object \n",
      " 2   Cuisine Style      30717 non-null  object \n",
      " 3   Ranking            40000 non-null  float64\n",
      " 4   Rating             40000 non-null  float64\n",
      " 5   Price Range        26114 non-null  object \n",
      " 6   Number of Reviews  37457 non-null  float64\n",
      " 7   Reviews            40000 non-null  object \n",
      " 8   URL_TA             40000 non-null  object \n",
      " 9   ID_TA              40000 non-null  object \n",
      "dtypes: float64(3), object(7)\n",
      "memory usage: 3.1+ MB\n"
     ]
    }
   ],
   "source": [
    "df.info()"
   ]
  },
  {
   "cell_type": "code",
   "execution_count": 4,
   "metadata": {
    "scrolled": true
   },
   "outputs": [
    {
     "data": {
      "text/html": [
       "<div>\n",
       "<style scoped>\n",
       "    .dataframe tbody tr th:only-of-type {\n",
       "        vertical-align: middle;\n",
       "    }\n",
       "\n",
       "    .dataframe tbody tr th {\n",
       "        vertical-align: top;\n",
       "    }\n",
       "\n",
       "    .dataframe thead th {\n",
       "        text-align: right;\n",
       "    }\n",
       "</style>\n",
       "<table border=\"1\" class=\"dataframe\">\n",
       "  <thead>\n",
       "    <tr style=\"text-align: right;\">\n",
       "      <th></th>\n",
       "      <th>Restaurant_id</th>\n",
       "      <th>City</th>\n",
       "      <th>Cuisine Style</th>\n",
       "      <th>Price Range</th>\n",
       "      <th>Reviews</th>\n",
       "      <th>URL_TA</th>\n",
       "      <th>ID_TA</th>\n",
       "    </tr>\n",
       "  </thead>\n",
       "  <tbody>\n",
       "    <tr>\n",
       "      <th>count</th>\n",
       "      <td>40000</td>\n",
       "      <td>40000</td>\n",
       "      <td>30717</td>\n",
       "      <td>26114</td>\n",
       "      <td>40000</td>\n",
       "      <td>40000</td>\n",
       "      <td>40000</td>\n",
       "    </tr>\n",
       "    <tr>\n",
       "      <th>unique</th>\n",
       "      <td>11909</td>\n",
       "      <td>31</td>\n",
       "      <td>9007</td>\n",
       "      <td>3</td>\n",
       "      <td>33516</td>\n",
       "      <td>39980</td>\n",
       "      <td>39980</td>\n",
       "    </tr>\n",
       "    <tr>\n",
       "      <th>top</th>\n",
       "      <td>id_633</td>\n",
       "      <td>London</td>\n",
       "      <td>['Italian']</td>\n",
       "      <td>$$ - $$$</td>\n",
       "      <td>[[], []]</td>\n",
       "      <td>/Restaurant_Review-g187514-d13002276-Reviews-D...</td>\n",
       "      <td>d9802625</td>\n",
       "    </tr>\n",
       "    <tr>\n",
       "      <th>freq</th>\n",
       "      <td>18</td>\n",
       "      <td>5757</td>\n",
       "      <td>1032</td>\n",
       "      <td>18412</td>\n",
       "      <td>6471</td>\n",
       "      <td>2</td>\n",
       "      <td>2</td>\n",
       "    </tr>\n",
       "  </tbody>\n",
       "</table>\n",
       "</div>"
      ],
      "text/plain": [
       "       Restaurant_id    City Cuisine Style Price Range   Reviews  \\\n",
       "count          40000   40000         30717       26114     40000   \n",
       "unique         11909      31          9007           3     33516   \n",
       "top           id_633  London   ['Italian']    $$ - $$$  [[], []]   \n",
       "freq              18    5757          1032       18412      6471   \n",
       "\n",
       "                                                   URL_TA     ID_TA  \n",
       "count                                               40000     40000  \n",
       "unique                                              39980     39980  \n",
       "top     /Restaurant_Review-g187514-d13002276-Reviews-D...  d9802625  \n",
       "freq                                                    2         2  "
      ]
     },
     "execution_count": 4,
     "metadata": {},
     "output_type": "execute_result"
    }
   ],
   "source": [
    "df.describe(include = ['object'])"
   ]
  },
  {
   "cell_type": "code",
   "execution_count": 5,
   "metadata": {
    "scrolled": false
   },
   "outputs": [
    {
     "data": {
      "text/plain": [
       "$$ - $$$    18412\n",
       "$            6279\n",
       "$$$$         1423\n",
       "Name: Price Range, dtype: int64"
      ]
     },
     "execution_count": 5,
     "metadata": {},
     "output_type": "execute_result"
    }
   ],
   "source": [
    "df['Price Range'].value_counts() #смотрим на столбец с данными о цене"
   ]
  },
  {
   "cell_type": "code",
   "execution_count": 6,
   "metadata": {},
   "outputs": [
    {
     "data": {
      "text/plain": [
       "count        40000\n",
       "unique           3\n",
       "top       $$ - $$$\n",
       "freq         28237\n",
       "Name: Price Range, dtype: object"
      ]
     },
     "execution_count": 6,
     "metadata": {},
     "output_type": "execute_result"
    }
   ],
   "source": [
    "# заполняем пустые значения на возможные в рамказ вероятностного значения\n",
    "nan_data = df['Price Range'].isna() # создайм переменную с нулевыми значениями \n",
    "# считаю вероятнасть того или иного значения\n",
    "p = df['Price Range'].value_counts() / len(df['Price Range'].dropna())\n",
    "# заполняем пропуски с вероятностью `p`\n",
    "df.loc[nan_data, 'Price Range'] = \\\n",
    "    np.random.choice(p.index.to_list(), \n",
    "                      size=nan_data.sum(), \n",
    "                      p=p.to_list())\n",
    "df['Price Range'].describe(include = ['object']) # проверяем полученные данные"
   ]
  },
  {
   "cell_type": "code",
   "execution_count": 7,
   "metadata": {},
   "outputs": [],
   "source": [
    "def find_item(cell):\n",
    "    if item in cell:\n",
    "        return 1\n",
    "    return 0"
   ]
  },
  {
   "cell_type": "code",
   "execution_count": 8,
   "metadata": {},
   "outputs": [],
   "source": [
    "Price_Range = ('$', '$$ - $$$', '$$$$')\n",
    "#добавляем цифровые столбцы для определения ценового диапозона ресторана\n",
    "for item in Price_Range:\n",
    "    df[item] = df['Price Range'].apply(find_item)"
   ]
  },
  {
   "cell_type": "code",
   "execution_count": 9,
   "metadata": {
    "scrolled": true
   },
   "outputs": [
    {
     "data": {
      "text/plain": [
       "count           40000\n",
       "unique           9007\n",
       "top       ['Italian']\n",
       "freq             1348\n",
       "Name: Cuisine Style, dtype: object"
      ]
     },
     "execution_count": 9,
     "metadata": {},
     "output_type": "execute_result"
    }
   ],
   "source": [
    "# заполняем пустые значения на возможные в рамказ вероятностного значения\n",
    "nan_data = df['Cuisine Style'].isna() # создайм переменную с нулевыми значениями \n",
    "# считаю вероятнасть того или иного значения\n",
    "p = df['Cuisine Style'].value_counts() / len(df['Cuisine Style'].dropna())\n",
    "# заполняем пропуски с вероятностью `p`\n",
    "df.loc[nan_data, 'Cuisine Style'] = \\\n",
    "    np.random.choice(p.index.to_list(), \n",
    "                      size=nan_data.sum(), \n",
    "                      p=p.to_list())\n",
    "df['Cuisine Style'].describe(include = ['object']) # проверяем полученные данные"
   ]
  },
  {
   "cell_type": "code",
   "execution_count": 10,
   "metadata": {},
   "outputs": [
    {
     "data": {
      "text/plain": [
       "0                        [European, French, International]\n",
       "1                                        [Japanese, Sushi]\n",
       "2        [Japanese, Sushi, Asian, Grill, Vegetarian Fri...\n",
       "3                              [Chinese, Minority Chinese]\n",
       "4          [German, Central European, Vegetarian Friendly]\n",
       "                               ...                        \n",
       "39995    [Italian, Vegetarian Friendly, Vegan Options, ...\n",
       "39996    [French, American, Bar, European, Vegetarian F...\n",
       "39997                                    [Japanese, Sushi]\n",
       "39998    [Polish, European, Eastern European, Central E...\n",
       "39999                                            [Spanish]\n",
       "Name: Cuisine Style, Length: 40000, dtype: object"
      ]
     },
     "execution_count": 10,
     "metadata": {},
     "output_type": "execute_result"
    }
   ],
   "source": [
    "df['Cuisine Style'] = df['Cuisine Style'].str.replace('[', '')\n",
    "df['Cuisine Style'] = df['Cuisine Style'].str.replace(']', '')\n",
    "df['Cuisine Style'] = df['Cuisine Style'].str.replace(\"'\", '')\n",
    "df['Cuisine Style'] = df['Cuisine Style'].str.replace('&', '')\n",
    "df['Cuisine Style'] = df['Cuisine Style'].str.replace(', ', ',')\n",
    "df['Cuisine Style'] = df['Cuisine Style'].apply(lambda s: s.split(','))\n",
    "df['Cuisine Style']"
   ]
  },
  {
   "cell_type": "code",
   "execution_count": 11,
   "metadata": {},
   "outputs": [],
   "source": [
    "#в названиях кухонь есть обощения, такие как Азиатская кухня или Средиземноморская, нужно их разбить на \n",
    "#названия кухонь конкретных стран, что бы улучшить прогноз\n",
    "#сначала попробовал только на Азиатской кухне, МАЕ улучшился\n",
    "Mediterranean = ['Italian', 'Greek', 'Spanish', 'French']\n",
    "European = ['Albanian', 'Argentinean','Austrian', 'Belgian', 'British', 'Croatian', 'Czech', 'Danish',\n",
    "            'Dutch',  'Norwegian', 'French', 'German', 'Greek', 'Hungarian', 'Irish', 'Italian', \n",
    "            'Portuguese', 'Polish', 'Romanian', 'Scottish', 'Slovenian', 'Spanish', 'Swedish', \n",
    "             'Welsh']\n",
    "Arabic = ['Afghani', 'Egyptian', 'Lebanese', 'Moroccan', 'Pakistani', 'Persian', 'Tunisian']\n",
    "Polynesian = ['Filipino', 'Fujian', 'Indonesian', 'Malaysian']\n",
    "Scandinavian = ['Norwegian', 'Danish', 'Swedish']\n",
    "African = ['Ethiopian', 'South American']\n",
    "Latin = ['Argentinean', 'Brazilian', 'Chilean', 'Colombian', 'Cuban', 'Ecuadorean', 'Mexican',\n",
    "         'Nepali', 'Peruvian', 'Salvadoran', 'Venezuelan']\n",
    "Caribbean = ['Cajun  Creole', 'Jamaican', 'Cuban']\n",
    "Caucasian = ['Armenian', 'Azerbaijani', 'Turkish', 'Georgian']\n",
    "Southwestern = ['Burmese', 'Indonesian', 'Malaysian', 'Singaporean', 'Thai']\n",
    "Eastern_European = ['Albanian', 'Croatian',  'Hungarian',  'Romanian', 'Russian', 'Slovenian',\n",
    "                    'Polish', 'Ukrainian']\n",
    "Central_European = ['Austrian', 'Belgian', 'Dutch', 'French',   'Czech',\n",
    "                    'Swiss', 'German']\n",
    "Middle_Eastern = ['Armenian', 'Georgian', 'Egyptian', 'Israeli', 'Lebanese', 'Turkish', 'Uzbek']\n",
    "Asian = ['Central Asian', 'Chinese', 'Filipino', 'Indonesian', 'Japanese', 'Korean', 'Malaysian', 'Minority Chinese',\n",
    "         'Singaporean','Sushi', 'Taiwanese', 'Thai', 'Vietnamese']"
   ]
  },
  {
   "cell_type": "code",
   "execution_count": 12,
   "metadata": {},
   "outputs": [],
   "source": [
    "def Cuisine(cusion_list, cusions): #задаём функцию, что бы перебрать обобщающие кухни, такие как Азиатская кухня\n",
    "    \n",
    "    #перебираем списки кухонь\n",
    "    for i in df['Cuisine Style']: \n",
    "        if len(i) == 1 and i == cusion_list:\n",
    "            i = cusions\n",
    "    return(i)"
   ]
  },
  {
   "cell_type": "code",
   "execution_count": 13,
   "metadata": {},
   "outputs": [],
   "source": [
    "cusion_list = ['Mediterranean', 'European', 'Arabic', 'Polynesian', 'Scandinavian', 'African', 'Latin', 'Caribbean',\n",
    "              'Caucasian', 'Asian', 'Southwestern', 'Eastern European', 'Central European', 'Middle Eastern']\n",
    "cusions = [Mediterranean, European, Arabic, Polynesian, Scandinavian, African, Latin, Caribbean, Caucasian,\n",
    "          Asian, Southwestern, Eastern_European, Central_European, Middle_Eastern]"
   ]
  },
  {
   "cell_type": "code",
   "execution_count": 14,
   "metadata": {},
   "outputs": [],
   "source": [
    "for i in range(len(cusion_list)):\n",
    "    Cuisine(cusion_list[i], cusions[i])"
   ]
  },
  {
   "cell_type": "code",
   "execution_count": 15,
   "metadata": {
    "scrolled": true
   },
   "outputs": [
    {
     "data": {
      "text/plain": [
       "0                        [European, French, International]\n",
       "1                                        [Japanese, Sushi]\n",
       "2        [Japanese, Sushi, Asian, Grill, Vegetarian Fri...\n",
       "3                              [Chinese, Minority Chinese]\n",
       "4          [German, Central European, Vegetarian Friendly]\n",
       "                               ...                        \n",
       "39995    [Italian, Vegetarian Friendly, Vegan Options, ...\n",
       "39996    [French, American, Bar, European, Vegetarian F...\n",
       "39997                                    [Japanese, Sushi]\n",
       "39998    [Polish, European, Eastern European, Central E...\n",
       "39999                                            [Spanish]\n",
       "Name: Cuisine Style, Length: 40000, dtype: object"
      ]
     },
     "execution_count": 15,
     "metadata": {},
     "output_type": "execute_result"
    }
   ],
   "source": [
    "df['Cuisine Style']"
   ]
  },
  {
   "cell_type": "code",
   "execution_count": 16,
   "metadata": {
    "scrolled": true
   },
   "outputs": [],
   "source": [
    "Cuisine_Style = set()  # создаём пустое множество для хранения уникальных значений кухонь\n",
    "for style in df['Cuisine Style']:# начинаем перебор всех списков с кухнями\n",
    "    for Cuisine in style: # начинаем перебор всех кухань из списков\n",
    "        Cuisine_Style.add(Cuisine)"
   ]
  },
  {
   "cell_type": "code",
   "execution_count": 17,
   "metadata": {
    "scrolled": true
   },
   "outputs": [
    {
     "name": "stdout",
     "output_type": "stream",
     "text": [
      "{'Polish', 'Belgian', 'Romanian', 'Dutch', 'Brazilian', 'Fujian', 'Hungarian', 'Central American', 'Diner', 'Jamaican', 'Filipino', 'Norwegian', 'Fast Food', 'Taiwanese', 'Pizza', 'Portuguese', 'New Zealand', 'Minority Chinese', 'Contemporary', 'Bangladeshi', 'Southwestern', 'Ukrainian', 'Cajun  Creole', 'Sri Lankan', 'Nepali', 'Pub', 'Native American', 'Cafe', 'French', 'Central Asian', 'Singaporean', 'German', 'Persian', 'Swiss', 'Caribbean', 'Swedish', 'Seafood', 'Venezuelan', 'Steakhouse', 'Wine Bar', 'Croatian', 'Bar', 'Peruvian', 'African', 'Tibetan', 'Welsh', 'Yunnan', 'Czech', 'Hawaiian', 'South American', 'Eastern European', 'European', 'Russian', 'Soups', 'Canadian', 'Gastropub', 'Halal', 'Arabic', 'Spanish', 'Australian', 'International', 'Georgian', 'Sushi', 'Middle Eastern', 'Austrian', 'Moroccan', 'Lebanese', 'Chilean', 'Barbecue', 'Chinese', 'Vegetarian Friendly', 'British', 'Tunisian', 'Israeli', 'Afghani', 'Street Food', 'Latin', 'Egyptian', 'Grill', 'Albanian', 'Colombian', 'Caucasian', 'Malaysian', 'Kosher', 'Japanese', 'Asian', 'Mediterranean', 'Indonesian', 'Turkish', 'Ethiopian', 'Scottish', 'Vietnamese', 'Cuban', 'Gluten Free Options', 'Latvian', 'Brew Pub', 'Delicatessen', 'Vegan Options', 'Polynesian', 'Central European', 'Fusion', 'Healthy', 'Irish', 'Slovenian', 'Uzbek', 'American', 'Armenian', 'Mexican', 'Scandinavian', 'Thai', 'Pakistani', 'Xinjiang', 'Salvadoran', 'Cambodian', 'Indian', 'Balti', 'Greek', 'Burmese', 'Italian', 'Korean', 'Ecuadorean', 'Danish', 'Azerbaijani', 'Argentinean', 'Mongolian'}\n"
     ]
    }
   ],
   "source": [
    "print(Cuisine_Style)"
   ]
  },
  {
   "cell_type": "code",
   "execution_count": 18,
   "metadata": {},
   "outputs": [],
   "source": [
    "Cuisine_Style_count = {}  # создаём пустой словарь для хранения информации об кухнях\n",
    "for style in df['Cuisine Style']:# начинаем перебор всех списков с кухнями\n",
    "    for Cuisine in style: # начинаем перебор всех кухань из списков\n",
    "        Cuisine_Style_count[Cuisine] = 0 # добавляем в словарь ключ, соответствующий очередной кухне\n",
    "for style in df['Cuisine Style']:# начинаем перебор всех списков с кухнями\n",
    "    for Cuisine in style: # начинаем перебор всех кухань из списков\n",
    "        Cuisine_Style_count[Cuisine] += 1   # увеличиваем значение нужного ключа в словаре на 1"
   ]
  },
  {
   "cell_type": "code",
   "execution_count": 19,
   "metadata": {},
   "outputs": [
    {
     "name": "stdout",
     "output_type": "stream",
     "text": [
      "[('Afghani', 29), ('African', 196), ('Albanian', 9), ('American', 1733), ('Arabic', 67), ('Argentinean', 223), ('Armenian', 15), ('Asian', 3896), ('Australian', 33), ('Austrian', 492), ('Azerbaijani', 2), ('Balti', 105), ('Bangladeshi', 100), ('Bar', 4242), ('Barbecue', 708), ('Belgian', 340), ('Brazilian', 167), ('Brew Pub', 303), ('British', 2105), ('Burmese', 2), ('Cafe', 3012), ('Cajun  Creole', 26), ('Cambodian', 23), ('Canadian', 6), ('Caribbean', 123), ('Caucasian', 5), ('Central American', 176), ('Central Asian', 17), ('Central European', 1824), ('Chilean', 9), ('Chinese', 1481), ('Colombian', 29), ('Contemporary', 679), ('Croatian', 38), ('Cuban', 31), ('Czech', 779), ('Danish', 239), ('Delicatessen', 502), ('Diner', 400), ('Dutch', 378), ('Eastern European', 664), ('Ecuadorean', 5), ('Egyptian', 25), ('Ethiopian', 53), ('European', 13051), ('Fast Food', 2213), ('Filipino', 13), ('French', 4188), ('Fujian', 2), ('Fusion', 750), ('Gastropub', 603), ('Georgian', 23), ('German', 841), ('Gluten Free Options', 5357), ('Greek', 797), ('Grill', 636), ('Halal', 778), ('Hawaiian', 25), ('Healthy', 801), ('Hungarian', 468), ('Indian', 1345), ('Indonesian', 79), ('International', 2097), ('Irish', 377), ('Israeli', 96), ('Italian', 7769), ('Jamaican', 27), ('Japanese', 1894), ('Korean', 209), ('Kosher', 63), ('Latin', 389), ('Latvian', 1), ('Lebanese', 427), ('Malaysian', 37), ('Mediterranean', 8125), ('Mexican', 590), ('Middle Eastern', 1015), ('Minority Chinese', 17), ('Mongolian', 16), ('Moroccan', 183), ('Native American', 6), ('Nepali', 114), ('New Zealand', 12), ('Norwegian', 90), ('Pakistani', 158), ('Persian', 73), ('Peruvian', 115), ('Pizza', 3686), ('Polish', 482), ('Polynesian', 2), ('Portuguese', 1420), ('Pub', 3175), ('Romanian', 14), ('Russian', 71), ('Salvadoran', 2), ('Scandinavian', 441), ('Scottish', 216), ('Seafood', 1959), ('Singaporean', 24), ('Slovenian', 92), ('Soups', 654), ('South American', 476), ('Southwestern', 20), ('Spanish', 3617), ('Sri Lankan', 34), ('Steakhouse', 751), ('Street Food', 361), ('Sushi', 1525), ('Swedish', 216), ('Swiss', 233), ('Taiwanese', 29), ('Thai', 952), ('Tibetan', 34), ('Tunisian', 27), ('Turkish', 565), ('Ukrainian', 22), ('Uzbek', 7), ('Vegan Options', 5824), ('Vegetarian Friendly', 14500), ('Venezuelan', 53), ('Vietnamese', 677), ('Welsh', 4), ('Wine Bar', 926), ('Xinjiang', 1), ('Yunnan', 1)]\n"
     ]
    }
   ],
   "source": [
    "list_cuisine = list(Cuisine_Style_count.items())\n",
    "list_cuisine.sort(key=lambda i: i[0])\n",
    "print(list_cuisine)"
   ]
  },
  {
   "cell_type": "code",
   "execution_count": 20,
   "metadata": {},
   "outputs": [],
   "source": [
    "for item in Cuisine_Style:\n",
    "    df[item] = df['Cuisine Style'].apply(find_item)\n",
    "    \n",
    "df['Cuisine Style'] = df['Cuisine Style'].apply(lambda x: len(x))"
   ]
  },
  {
   "cell_type": "code",
   "execution_count": 21,
   "metadata": {
    "scrolled": true
   },
   "outputs": [
    {
     "data": {
      "text/html": [
       "<div>\n",
       "<style scoped>\n",
       "    .dataframe tbody tr th:only-of-type {\n",
       "        vertical-align: middle;\n",
       "    }\n",
       "\n",
       "    .dataframe tbody tr th {\n",
       "        vertical-align: top;\n",
       "    }\n",
       "\n",
       "    .dataframe thead th {\n",
       "        text-align: right;\n",
       "    }\n",
       "</style>\n",
       "<table border=\"1\" class=\"dataframe\">\n",
       "  <thead>\n",
       "    <tr style=\"text-align: right;\">\n",
       "      <th></th>\n",
       "      <th>Restaurant_id</th>\n",
       "      <th>City</th>\n",
       "      <th>Cuisine Style</th>\n",
       "      <th>Ranking</th>\n",
       "      <th>Rating</th>\n",
       "      <th>Price Range</th>\n",
       "      <th>Number of Reviews</th>\n",
       "      <th>Reviews</th>\n",
       "      <th>URL_TA</th>\n",
       "      <th>ID_TA</th>\n",
       "      <th>...</th>\n",
       "      <th>Balti</th>\n",
       "      <th>Greek</th>\n",
       "      <th>Burmese</th>\n",
       "      <th>Italian</th>\n",
       "      <th>Korean</th>\n",
       "      <th>Ecuadorean</th>\n",
       "      <th>Danish</th>\n",
       "      <th>Azerbaijani</th>\n",
       "      <th>Argentinean</th>\n",
       "      <th>Mongolian</th>\n",
       "    </tr>\n",
       "  </thead>\n",
       "  <tbody>\n",
       "    <tr>\n",
       "      <th>32517</th>\n",
       "      <td>id_2070</td>\n",
       "      <td>Prague</td>\n",
       "      <td>2</td>\n",
       "      <td>2073.0</td>\n",
       "      <td>5.0</td>\n",
       "      <td>$$ - $$$</td>\n",
       "      <td>NaN</td>\n",
       "      <td>[[], []]</td>\n",
       "      <td>/Restaurant_Review-g274707-d7124442-Reviews-Cu...</td>\n",
       "      <td>d7124442</td>\n",
       "      <td>...</td>\n",
       "      <td>0</td>\n",
       "      <td>0</td>\n",
       "      <td>0</td>\n",
       "      <td>0</td>\n",
       "      <td>0</td>\n",
       "      <td>0</td>\n",
       "      <td>0</td>\n",
       "      <td>0</td>\n",
       "      <td>0</td>\n",
       "      <td>0</td>\n",
       "    </tr>\n",
       "    <tr>\n",
       "      <th>16081</th>\n",
       "      <td>id_2075</td>\n",
       "      <td>Barcelona</td>\n",
       "      <td>2</td>\n",
       "      <td>2076.0</td>\n",
       "      <td>4.0</td>\n",
       "      <td>$$ - $$$</td>\n",
       "      <td>95.0</td>\n",
       "      <td>[['Food and design', 'Quality, quality and qua...</td>\n",
       "      <td>/Restaurant_Review-g187497-d7171656-Reviews-To...</td>\n",
       "      <td>d7171656</td>\n",
       "      <td>...</td>\n",
       "      <td>0</td>\n",
       "      <td>0</td>\n",
       "      <td>0</td>\n",
       "      <td>0</td>\n",
       "      <td>0</td>\n",
       "      <td>0</td>\n",
       "      <td>0</td>\n",
       "      <td>0</td>\n",
       "      <td>0</td>\n",
       "      <td>0</td>\n",
       "    </tr>\n",
       "    <tr>\n",
       "      <th>18832</th>\n",
       "      <td>id_10710</td>\n",
       "      <td>London</td>\n",
       "      <td>2</td>\n",
       "      <td>10720.0</td>\n",
       "      <td>4.5</td>\n",
       "      <td>$$ - $$$</td>\n",
       "      <td>3.0</td>\n",
       "      <td>[['Good quality food', 'If you love Lebanese f...</td>\n",
       "      <td>/Restaurant_Review-g186338-d6464554-Reviews-Sa...</td>\n",
       "      <td>d6464554</td>\n",
       "      <td>...</td>\n",
       "      <td>0</td>\n",
       "      <td>0</td>\n",
       "      <td>0</td>\n",
       "      <td>0</td>\n",
       "      <td>0</td>\n",
       "      <td>0</td>\n",
       "      <td>0</td>\n",
       "      <td>0</td>\n",
       "      <td>0</td>\n",
       "      <td>0</td>\n",
       "    </tr>\n",
       "    <tr>\n",
       "      <th>11930</th>\n",
       "      <td>id_66</td>\n",
       "      <td>Edinburgh</td>\n",
       "      <td>4</td>\n",
       "      <td>67.0</td>\n",
       "      <td>4.5</td>\n",
       "      <td>$$ - $$$</td>\n",
       "      <td>610.0</td>\n",
       "      <td>[['👍❤️👍❤️👍❤️', 'Welcome to Meat Heaven!'], ['0...</td>\n",
       "      <td>/Restaurant_Review-g186525-d2159384-Reviews-Sh...</td>\n",
       "      <td>d2159384</td>\n",
       "      <td>...</td>\n",
       "      <td>0</td>\n",
       "      <td>0</td>\n",
       "      <td>0</td>\n",
       "      <td>0</td>\n",
       "      <td>0</td>\n",
       "      <td>0</td>\n",
       "      <td>0</td>\n",
       "      <td>0</td>\n",
       "      <td>0</td>\n",
       "      <td>0</td>\n",
       "    </tr>\n",
       "    <tr>\n",
       "      <th>30055</th>\n",
       "      <td>id_86</td>\n",
       "      <td>Berlin</td>\n",
       "      <td>6</td>\n",
       "      <td>87.0</td>\n",
       "      <td>4.5</td>\n",
       "      <td>$$ - $$$</td>\n",
       "      <td>271.0</td>\n",
       "      <td>[['Nice', 'First date and beyond'], ['12/23/20...</td>\n",
       "      <td>/Restaurant_Review-g187323-d2014748-Reviews-Be...</td>\n",
       "      <td>d2014748</td>\n",
       "      <td>...</td>\n",
       "      <td>0</td>\n",
       "      <td>0</td>\n",
       "      <td>0</td>\n",
       "      <td>1</td>\n",
       "      <td>0</td>\n",
       "      <td>0</td>\n",
       "      <td>0</td>\n",
       "      <td>0</td>\n",
       "      <td>0</td>\n",
       "      <td>0</td>\n",
       "    </tr>\n",
       "    <tr>\n",
       "      <th>3282</th>\n",
       "      <td>id_4589</td>\n",
       "      <td>Berlin</td>\n",
       "      <td>1</td>\n",
       "      <td>4591.0</td>\n",
       "      <td>4.0</td>\n",
       "      <td>$</td>\n",
       "      <td>7.0</td>\n",
       "      <td>[[], []]</td>\n",
       "      <td>/Restaurant_Review-g187323-d8786577-Reviews-Ta...</td>\n",
       "      <td>d8786577</td>\n",
       "      <td>...</td>\n",
       "      <td>0</td>\n",
       "      <td>0</td>\n",
       "      <td>0</td>\n",
       "      <td>0</td>\n",
       "      <td>0</td>\n",
       "      <td>0</td>\n",
       "      <td>0</td>\n",
       "      <td>0</td>\n",
       "      <td>0</td>\n",
       "      <td>0</td>\n",
       "    </tr>\n",
       "    <tr>\n",
       "      <th>31085</th>\n",
       "      <td>id_6924</td>\n",
       "      <td>Barcelona</td>\n",
       "      <td>2</td>\n",
       "      <td>6925.0</td>\n",
       "      <td>3.0</td>\n",
       "      <td>$</td>\n",
       "      <td>NaN</td>\n",
       "      <td>[[], []]</td>\n",
       "      <td>/Restaurant_Review-g187497-d1081756-Reviews-Vi...</td>\n",
       "      <td>d1081756</td>\n",
       "      <td>...</td>\n",
       "      <td>0</td>\n",
       "      <td>0</td>\n",
       "      <td>0</td>\n",
       "      <td>0</td>\n",
       "      <td>0</td>\n",
       "      <td>0</td>\n",
       "      <td>0</td>\n",
       "      <td>0</td>\n",
       "      <td>0</td>\n",
       "      <td>0</td>\n",
       "    </tr>\n",
       "  </tbody>\n",
       "</table>\n",
       "<p>7 rows × 138 columns</p>\n",
       "</div>"
      ],
      "text/plain": [
       "      Restaurant_id       City  Cuisine Style  Ranking  Rating Price Range  \\\n",
       "32517       id_2070     Prague              2   2073.0     5.0    $$ - $$$   \n",
       "16081       id_2075  Barcelona              2   2076.0     4.0    $$ - $$$   \n",
       "18832      id_10710     London              2  10720.0     4.5    $$ - $$$   \n",
       "11930         id_66  Edinburgh              4     67.0     4.5    $$ - $$$   \n",
       "30055         id_86     Berlin              6     87.0     4.5    $$ - $$$   \n",
       "3282        id_4589     Berlin              1   4591.0     4.0           $   \n",
       "31085       id_6924  Barcelona              2   6925.0     3.0           $   \n",
       "\n",
       "       Number of Reviews                                            Reviews  \\\n",
       "32517                NaN                                           [[], []]   \n",
       "16081               95.0  [['Food and design', 'Quality, quality and qua...   \n",
       "18832                3.0  [['Good quality food', 'If you love Lebanese f...   \n",
       "11930              610.0  [['👍❤️👍❤️👍❤️', 'Welcome to Meat Heaven!'], ['0...   \n",
       "30055              271.0  [['Nice', 'First date and beyond'], ['12/23/20...   \n",
       "3282                 7.0                                           [[], []]   \n",
       "31085                NaN                                           [[], []]   \n",
       "\n",
       "                                                  URL_TA     ID_TA  ...  \\\n",
       "32517  /Restaurant_Review-g274707-d7124442-Reviews-Cu...  d7124442  ...   \n",
       "16081  /Restaurant_Review-g187497-d7171656-Reviews-To...  d7171656  ...   \n",
       "18832  /Restaurant_Review-g186338-d6464554-Reviews-Sa...  d6464554  ...   \n",
       "11930  /Restaurant_Review-g186525-d2159384-Reviews-Sh...  d2159384  ...   \n",
       "30055  /Restaurant_Review-g187323-d2014748-Reviews-Be...  d2014748  ...   \n",
       "3282   /Restaurant_Review-g187323-d8786577-Reviews-Ta...  d8786577  ...   \n",
       "31085  /Restaurant_Review-g187497-d1081756-Reviews-Vi...  d1081756  ...   \n",
       "\n",
       "       Balti  Greek  Burmese  Italian  Korean  Ecuadorean  Danish  \\\n",
       "32517      0      0        0        0       0           0       0   \n",
       "16081      0      0        0        0       0           0       0   \n",
       "18832      0      0        0        0       0           0       0   \n",
       "11930      0      0        0        0       0           0       0   \n",
       "30055      0      0        0        1       0           0       0   \n",
       "3282       0      0        0        0       0           0       0   \n",
       "31085      0      0        0        0       0           0       0   \n",
       "\n",
       "       Azerbaijani  Argentinean  Mongolian  \n",
       "32517            0            0          0  \n",
       "16081            0            0          0  \n",
       "18832            0            0          0  \n",
       "11930            0            0          0  \n",
       "30055            0            0          0  \n",
       "3282             0            0          0  \n",
       "31085            0            0          0  \n",
       "\n",
       "[7 rows x 138 columns]"
      ]
     },
     "execution_count": 21,
     "metadata": {},
     "output_type": "execute_result"
    }
   ],
   "source": [
    "df.sample(7)"
   ]
  },
  {
   "cell_type": "code",
   "execution_count": 22,
   "metadata": {},
   "outputs": [
    {
     "name": "stdout",
     "output_type": "stream",
     "text": [
      "Самая свежая дата: 2018-02-26 00:00:00\n",
      "Самая ранняя дата: 2004-04-21 00:00:00\n",
      "Количество дней: 3207 days 00:00:00\n"
     ]
    }
   ],
   "source": [
    "pattern = re.compile(\"\\d+\\/\\d+\\/\\d+\") #находим все текстовые значения похожие на дату\n",
    "df['date_rev'] = df['Reviews'].apply(pattern.findall) #создаём новый столбец только с датами\n",
    "df['date_rev']\n",
    "\n",
    "#отсеиваем случаи когда дата имеется в комментариямх\n",
    "df['date_rev'] = df['date_rev'].apply(lambda x: [x[-2], x[-1]] if len(x)>=3 else x)\n",
    "df['date_rev']\n",
    "\n",
    "#случаи с обной датой и с двумя датами\n",
    "df['rev_1'] = df['date_rev'].apply(lambda x: x[0] if len(x)>=1 else None)\n",
    "df['rev_2'] = df['date_rev'].apply(lambda x: x[1] if len(x)==2 else None)\n",
    "df['rev_2']\n",
    "\n",
    "df['rev_1'] = pd.to_datetime(df['rev_1'])\n",
    "df['rev_2'] = pd.to_datetime(df['rev_2'])\n",
    "\n",
    "print('Самая свежая дата:', df[['rev_1', 'rev_2']].max().max())\n",
    "print('Самая ранняя дата:', df[['rev_1','rev_2']].min().min())\n",
    "max_days = abs(df['rev_1'] - df['rev_2']).max()\n",
    "print('Количество дней:', max_days)"
   ]
  },
  {
   "cell_type": "code",
   "execution_count": 23,
   "metadata": {},
   "outputs": [
    {
     "data": {
      "text/plain": [
       "0        1519603200\n",
       "1        1519603200\n",
       "2        1519603200\n",
       "3        1519603200\n",
       "4        1519603200\n",
       "            ...    \n",
       "39995    1519603200\n",
       "39996    1519603200\n",
       "39997    1519603200\n",
       "39998    1519603200\n",
       "39999    1519603200\n",
       "Name: date_rev_fresh, Length: 40000, dtype: int64"
      ]
     },
     "execution_count": 23,
     "metadata": {},
     "output_type": "execute_result"
    }
   ],
   "source": [
    "df['date_rev_fresh'] = int(df[['rev_1', 'rev_2']].max().max().timestamp())\n",
    "df['date_rev_fresh']"
   ]
  },
  {
   "cell_type": "code",
   "execution_count": 24,
   "metadata": {},
   "outputs": [],
   "source": [
    "City = set()  # создаём пустое множество для хранения уникальных значений городов\n",
    "for town in df['City']: # начинаем перебор городами\n",
    "    City.add(town) # добавляем уникальные города   "
   ]
  },
  {
   "cell_type": "code",
   "execution_count": 25,
   "metadata": {},
   "outputs": [],
   "source": [
    "for item in City:\n",
    "    df[item] = df['City'].apply(find_item)"
   ]
  },
  {
   "cell_type": "code",
   "execution_count": 26,
   "metadata": {},
   "outputs": [
    {
     "name": "stdout",
     "output_type": "stream",
     "text": [
      "<class 'pandas.core.frame.DataFrame'>\n",
      "RangeIndex: 40000 entries, 0 to 39999\n",
      "Columns: 173 entries, Restaurant_id to Athens\n",
      "dtypes: datetime64[ns](2), float64(3), int64(161), object(7)\n",
      "memory usage: 52.8+ MB\n"
     ]
    }
   ],
   "source": [
    "df.info()"
   ]
  },
  {
   "cell_type": "code",
   "execution_count": 27,
   "metadata": {},
   "outputs": [
    {
     "data": {
      "text/html": [
       "<div>\n",
       "<style scoped>\n",
       "    .dataframe tbody tr th:only-of-type {\n",
       "        vertical-align: middle;\n",
       "    }\n",
       "\n",
       "    .dataframe tbody tr th {\n",
       "        vertical-align: top;\n",
       "    }\n",
       "\n",
       "    .dataframe thead th {\n",
       "        text-align: right;\n",
       "    }\n",
       "</style>\n",
       "<table border=\"1\" class=\"dataframe\">\n",
       "  <thead>\n",
       "    <tr style=\"text-align: right;\">\n",
       "      <th></th>\n",
       "      <th>Restaurant_id</th>\n",
       "      <th>City</th>\n",
       "      <th>Cuisine Style</th>\n",
       "      <th>Ranking</th>\n",
       "      <th>Rating</th>\n",
       "      <th>Price Range</th>\n",
       "      <th>Number of Reviews</th>\n",
       "      <th>Reviews</th>\n",
       "      <th>URL_TA</th>\n",
       "      <th>ID_TA</th>\n",
       "      <th>...</th>\n",
       "      <th>Lyon</th>\n",
       "      <th>Berlin</th>\n",
       "      <th>Prague</th>\n",
       "      <th>Stockholm</th>\n",
       "      <th>Vienna</th>\n",
       "      <th>Hamburg</th>\n",
       "      <th>Oslo</th>\n",
       "      <th>Barcelona</th>\n",
       "      <th>Luxembourg</th>\n",
       "      <th>Athens</th>\n",
       "    </tr>\n",
       "  </thead>\n",
       "  <tbody>\n",
       "    <tr>\n",
       "      <th>10698</th>\n",
       "      <td>id_4817</td>\n",
       "      <td>London</td>\n",
       "      <td>4</td>\n",
       "      <td>4826.0</td>\n",
       "      <td>4.0</td>\n",
       "      <td>$$ - $$$</td>\n",
       "      <td>191.0</td>\n",
       "      <td>[['Quaint Pub, Good Food', 'Experience reviewe...</td>\n",
       "      <td>/Restaurant_Review-g186338-d2483661-Reviews-Th...</td>\n",
       "      <td>d2483661</td>\n",
       "      <td>...</td>\n",
       "      <td>0</td>\n",
       "      <td>0</td>\n",
       "      <td>0</td>\n",
       "      <td>0</td>\n",
       "      <td>0</td>\n",
       "      <td>0</td>\n",
       "      <td>0</td>\n",
       "      <td>0</td>\n",
       "      <td>0</td>\n",
       "      <td>0</td>\n",
       "    </tr>\n",
       "    <tr>\n",
       "      <th>9347</th>\n",
       "      <td>id_1867</td>\n",
       "      <td>Amsterdam</td>\n",
       "      <td>6</td>\n",
       "      <td>1872.0</td>\n",
       "      <td>3.5</td>\n",
       "      <td>$$ - $$$</td>\n",
       "      <td>121.0</td>\n",
       "      <td>[['Nice place', 'Ok Breakfast'], ['11/17/2017'...</td>\n",
       "      <td>/Restaurant_Review-g188590-d8395743-Reviews-Ca...</td>\n",
       "      <td>d8395743</td>\n",
       "      <td>...</td>\n",
       "      <td>0</td>\n",
       "      <td>0</td>\n",
       "      <td>0</td>\n",
       "      <td>0</td>\n",
       "      <td>0</td>\n",
       "      <td>0</td>\n",
       "      <td>0</td>\n",
       "      <td>0</td>\n",
       "      <td>0</td>\n",
       "      <td>0</td>\n",
       "    </tr>\n",
       "    <tr>\n",
       "      <th>32766</th>\n",
       "      <td>id_3003</td>\n",
       "      <td>Lisbon</td>\n",
       "      <td>2</td>\n",
       "      <td>3006.0</td>\n",
       "      <td>4.0</td>\n",
       "      <td>$$$$</td>\n",
       "      <td>12.0</td>\n",
       "      <td>[[], []]</td>\n",
       "      <td>/Restaurant_Review-g189158-d3177106-Reviews-An...</td>\n",
       "      <td>d3177106</td>\n",
       "      <td>...</td>\n",
       "      <td>0</td>\n",
       "      <td>0</td>\n",
       "      <td>0</td>\n",
       "      <td>0</td>\n",
       "      <td>0</td>\n",
       "      <td>0</td>\n",
       "      <td>0</td>\n",
       "      <td>0</td>\n",
       "      <td>0</td>\n",
       "      <td>0</td>\n",
       "    </tr>\n",
       "    <tr>\n",
       "      <th>38432</th>\n",
       "      <td>id_4673</td>\n",
       "      <td>London</td>\n",
       "      <td>3</td>\n",
       "      <td>4681.0</td>\n",
       "      <td>5.0</td>\n",
       "      <td>$</td>\n",
       "      <td>21.0</td>\n",
       "      <td>[['Best value brunch in Hackney and fantastic....</td>\n",
       "      <td>/Restaurant_Review-g186338-d8358727-Reviews-Pa...</td>\n",
       "      <td>d8358727</td>\n",
       "      <td>...</td>\n",
       "      <td>0</td>\n",
       "      <td>0</td>\n",
       "      <td>0</td>\n",
       "      <td>0</td>\n",
       "      <td>0</td>\n",
       "      <td>0</td>\n",
       "      <td>0</td>\n",
       "      <td>0</td>\n",
       "      <td>0</td>\n",
       "      <td>0</td>\n",
       "    </tr>\n",
       "    <tr>\n",
       "      <th>19520</th>\n",
       "      <td>id_1198</td>\n",
       "      <td>Athens</td>\n",
       "      <td>1</td>\n",
       "      <td>1200.0</td>\n",
       "      <td>4.5</td>\n",
       "      <td>$</td>\n",
       "      <td>9.0</td>\n",
       "      <td>[['Bohemian, friendly, unique!', 'Vegan Rock-n...</td>\n",
       "      <td>/Restaurant_Review-g189400-d10215087-Reviews-5...</td>\n",
       "      <td>d10215087</td>\n",
       "      <td>...</td>\n",
       "      <td>0</td>\n",
       "      <td>0</td>\n",
       "      <td>0</td>\n",
       "      <td>0</td>\n",
       "      <td>0</td>\n",
       "      <td>0</td>\n",
       "      <td>0</td>\n",
       "      <td>0</td>\n",
       "      <td>0</td>\n",
       "      <td>1</td>\n",
       "    </tr>\n",
       "    <tr>\n",
       "      <th>37612</th>\n",
       "      <td>id_3432</td>\n",
       "      <td>Paris</td>\n",
       "      <td>1</td>\n",
       "      <td>3433.0</td>\n",
       "      <td>4.5</td>\n",
       "      <td>$$ - $$$</td>\n",
       "      <td>40.0</td>\n",
       "      <td>[['Very good Chinese restaurant in Paris.', 'G...</td>\n",
       "      <td>/Restaurant_Review-g187147-d9468440-Reviews-JI...</td>\n",
       "      <td>d9468440</td>\n",
       "      <td>...</td>\n",
       "      <td>0</td>\n",
       "      <td>0</td>\n",
       "      <td>0</td>\n",
       "      <td>0</td>\n",
       "      <td>0</td>\n",
       "      <td>0</td>\n",
       "      <td>0</td>\n",
       "      <td>0</td>\n",
       "      <td>0</td>\n",
       "      <td>0</td>\n",
       "    </tr>\n",
       "    <tr>\n",
       "      <th>31882</th>\n",
       "      <td>id_858</td>\n",
       "      <td>Rome</td>\n",
       "      <td>6</td>\n",
       "      <td>859.0</td>\n",
       "      <td>4.5</td>\n",
       "      <td>$</td>\n",
       "      <td>218.0</td>\n",
       "      <td>[['Loved the food', 'Delicious paninis'], ['11...</td>\n",
       "      <td>/Restaurant_Review-g187791-d7214382-Reviews-Ci...</td>\n",
       "      <td>d7214382</td>\n",
       "      <td>...</td>\n",
       "      <td>0</td>\n",
       "      <td>0</td>\n",
       "      <td>0</td>\n",
       "      <td>0</td>\n",
       "      <td>0</td>\n",
       "      <td>0</td>\n",
       "      <td>0</td>\n",
       "      <td>0</td>\n",
       "      <td>0</td>\n",
       "      <td>0</td>\n",
       "    </tr>\n",
       "  </tbody>\n",
       "</table>\n",
       "<p>7 rows × 173 columns</p>\n",
       "</div>"
      ],
      "text/plain": [
       "      Restaurant_id       City  Cuisine Style  Ranking  Rating Price Range  \\\n",
       "10698       id_4817     London              4   4826.0     4.0    $$ - $$$   \n",
       "9347        id_1867  Amsterdam              6   1872.0     3.5    $$ - $$$   \n",
       "32766       id_3003     Lisbon              2   3006.0     4.0        $$$$   \n",
       "38432       id_4673     London              3   4681.0     5.0           $   \n",
       "19520       id_1198     Athens              1   1200.0     4.5           $   \n",
       "37612       id_3432      Paris              1   3433.0     4.5    $$ - $$$   \n",
       "31882        id_858       Rome              6    859.0     4.5           $   \n",
       "\n",
       "       Number of Reviews                                            Reviews  \\\n",
       "10698              191.0  [['Quaint Pub, Good Food', 'Experience reviewe...   \n",
       "9347               121.0  [['Nice place', 'Ok Breakfast'], ['11/17/2017'...   \n",
       "32766               12.0                                           [[], []]   \n",
       "38432               21.0  [['Best value brunch in Hackney and fantastic....   \n",
       "19520                9.0  [['Bohemian, friendly, unique!', 'Vegan Rock-n...   \n",
       "37612               40.0  [['Very good Chinese restaurant in Paris.', 'G...   \n",
       "31882              218.0  [['Loved the food', 'Delicious paninis'], ['11...   \n",
       "\n",
       "                                                  URL_TA      ID_TA  ...  \\\n",
       "10698  /Restaurant_Review-g186338-d2483661-Reviews-Th...   d2483661  ...   \n",
       "9347   /Restaurant_Review-g188590-d8395743-Reviews-Ca...   d8395743  ...   \n",
       "32766  /Restaurant_Review-g189158-d3177106-Reviews-An...   d3177106  ...   \n",
       "38432  /Restaurant_Review-g186338-d8358727-Reviews-Pa...   d8358727  ...   \n",
       "19520  /Restaurant_Review-g189400-d10215087-Reviews-5...  d10215087  ...   \n",
       "37612  /Restaurant_Review-g187147-d9468440-Reviews-JI...   d9468440  ...   \n",
       "31882  /Restaurant_Review-g187791-d7214382-Reviews-Ci...   d7214382  ...   \n",
       "\n",
       "       Lyon  Berlin  Prague  Stockholm  Vienna  Hamburg  Oslo  Barcelona  \\\n",
       "10698     0       0       0          0       0        0     0          0   \n",
       "9347      0       0       0          0       0        0     0          0   \n",
       "32766     0       0       0          0       0        0     0          0   \n",
       "38432     0       0       0          0       0        0     0          0   \n",
       "19520     0       0       0          0       0        0     0          0   \n",
       "37612     0       0       0          0       0        0     0          0   \n",
       "31882     0       0       0          0       0        0     0          0   \n",
       "\n",
       "       Luxembourg  Athens  \n",
       "10698           0       0  \n",
       "9347            0       0  \n",
       "32766           0       0  \n",
       "38432           0       0  \n",
       "19520           0       1  \n",
       "37612           0       0  \n",
       "31882           0       0  \n",
       "\n",
       "[7 rows x 173 columns]"
      ]
     },
     "execution_count": 27,
     "metadata": {},
     "output_type": "execute_result"
    }
   ],
   "source": [
    "df.sample(7)"
   ]
  },
  {
   "cell_type": "code",
   "execution_count": 28,
   "metadata": {},
   "outputs": [],
   "source": [
    "# Ваш код по очистке данных и генерации новых признаков\n",
    "# При необходимости добавьте ячейки"
   ]
  },
  {
   "cell_type": "code",
   "execution_count": 29,
   "metadata": {},
   "outputs": [
    {
     "data": {
      "text/html": [
       "<div>\n",
       "<style scoped>\n",
       "    .dataframe tbody tr th:only-of-type {\n",
       "        vertical-align: middle;\n",
       "    }\n",
       "\n",
       "    .dataframe tbody tr th {\n",
       "        vertical-align: top;\n",
       "    }\n",
       "\n",
       "    .dataframe thead th {\n",
       "        text-align: right;\n",
       "    }\n",
       "</style>\n",
       "<table border=\"1\" class=\"dataframe\">\n",
       "  <thead>\n",
       "    <tr style=\"text-align: right;\">\n",
       "      <th></th>\n",
       "      <th>Restaurant_id</th>\n",
       "      <th>City</th>\n",
       "      <th>Price Range</th>\n",
       "      <th>Reviews</th>\n",
       "      <th>URL_TA</th>\n",
       "      <th>ID_TA</th>\n",
       "      <th>date_rev</th>\n",
       "    </tr>\n",
       "  </thead>\n",
       "  <tbody>\n",
       "    <tr>\n",
       "      <th>count</th>\n",
       "      <td>40000</td>\n",
       "      <td>40000</td>\n",
       "      <td>40000</td>\n",
       "      <td>40000</td>\n",
       "      <td>40000</td>\n",
       "      <td>40000</td>\n",
       "      <td>40000</td>\n",
       "    </tr>\n",
       "    <tr>\n",
       "      <th>unique</th>\n",
       "      <td>11909</td>\n",
       "      <td>31</td>\n",
       "      <td>3</td>\n",
       "      <td>33516</td>\n",
       "      <td>39980</td>\n",
       "      <td>39980</td>\n",
       "      <td>24606</td>\n",
       "    </tr>\n",
       "    <tr>\n",
       "      <th>top</th>\n",
       "      <td>id_633</td>\n",
       "      <td>London</td>\n",
       "      <td>$$ - $$$</td>\n",
       "      <td>[[], []]</td>\n",
       "      <td>/Restaurant_Review-g187514-d13002276-Reviews-D...</td>\n",
       "      <td>d9802625</td>\n",
       "      <td>[]</td>\n",
       "    </tr>\n",
       "    <tr>\n",
       "      <th>freq</th>\n",
       "      <td>18</td>\n",
       "      <td>5757</td>\n",
       "      <td>28237</td>\n",
       "      <td>6471</td>\n",
       "      <td>2</td>\n",
       "      <td>2</td>\n",
       "      <td>6471</td>\n",
       "    </tr>\n",
       "  </tbody>\n",
       "</table>\n",
       "</div>"
      ],
      "text/plain": [
       "       Restaurant_id    City Price Range   Reviews  \\\n",
       "count          40000   40000       40000     40000   \n",
       "unique         11909      31           3     33516   \n",
       "top           id_633  London    $$ - $$$  [[], []]   \n",
       "freq              18    5757       28237      6471   \n",
       "\n",
       "                                                   URL_TA     ID_TA date_rev  \n",
       "count                                               40000     40000    40000  \n",
       "unique                                              39980     39980    24606  \n",
       "top     /Restaurant_Review-g187514-d13002276-Reviews-D...  d9802625       []  \n",
       "freq                                                    2         2     6471  "
      ]
     },
     "execution_count": 29,
     "metadata": {},
     "output_type": "execute_result"
    }
   ],
   "source": [
    "df.describe(include = ['object']) #смотрим какие столбцы остались не числовыми"
   ]
  },
  {
   "cell_type": "code",
   "execution_count": 30,
   "metadata": {},
   "outputs": [
    {
     "name": "stdout",
     "output_type": "stream",
     "text": [
      "<class 'pandas.core.frame.DataFrame'>\n",
      "RangeIndex: 40000 entries, 0 to 39999\n",
      "Columns: 164 entries, Cuisine Style to Athens\n",
      "dtypes: float64(3), int64(161)\n",
      "memory usage: 50.0 MB\n"
     ]
    }
   ],
   "source": [
    "#удаляем не числовые столбцы\n",
    "df = df.drop(['Restaurant_id', 'City', 'Price Range', 'Reviews', 'URL_TA', \n",
    "              'ID_TA', 'date_rev', 'rev_1', 'rev_2'], axis = 1)\n",
    "df.info()"
   ]
  },
  {
   "cell_type": "markdown",
   "metadata": {},
   "source": [
    "df = df.drop(['Mediterranean', 'European', 'Arabic', 'Polynesian', 'Scandinavian', 'African', 'Latin', 'Caribbean',\n",
    "              'Caucasian', 'Asian', 'Southwestern', 'Eastern European', 'Central European', 'Middle Eastern'], axis = 1)\n",
    "df.info()"
   ]
  },
  {
   "cell_type": "code",
   "execution_count": 31,
   "metadata": {},
   "outputs": [],
   "source": [
    "df['Number of Reviews'] = df['Number of Reviews'].fillna(0) #заполняем значения NaN в столбце на нули"
   ]
  },
  {
   "cell_type": "markdown",
   "metadata": {},
   "source": [
    "# Разбиваем датафрейм на части, необходимые для обучения и тестирования модели"
   ]
  },
  {
   "cell_type": "code",
   "execution_count": 32,
   "metadata": {},
   "outputs": [],
   "source": [
    "# Х - данные с информацией о ресторанах, у - целевая переменная (рейтинги ресторанов)\n",
    "X = df.drop(['Rating'], axis = 1)\n",
    "y = df['Rating']"
   ]
  },
  {
   "cell_type": "code",
   "execution_count": 33,
   "metadata": {},
   "outputs": [],
   "source": [
    "# Загружаем специальный инструмент для разбивки:\n",
    "from sklearn.model_selection import train_test_split"
   ]
  },
  {
   "cell_type": "code",
   "execution_count": 34,
   "metadata": {},
   "outputs": [],
   "source": [
    "# Наборы данных с меткой \"train\" будут использоваться для обучения модели, \"test\" - для тестирования.\n",
    "# Для тестирования мы будем использовать 25% от исходного датасета.\n",
    "X_train, X_test, y_train, y_test = train_test_split(X, y, test_size=0.25)"
   ]
  },
  {
   "cell_type": "markdown",
   "metadata": {},
   "source": [
    "# Создаём, обучаем и тестируем модель"
   ]
  },
  {
   "cell_type": "code",
   "execution_count": 35,
   "metadata": {},
   "outputs": [],
   "source": [
    "# Импортируем необходимые библиотеки:\n",
    "from sklearn.ensemble import RandomForestRegressor # инструмент для создания и обучения модели\n",
    "from sklearn import metrics # инструменты для оценки точности модели"
   ]
  },
  {
   "cell_type": "code",
   "execution_count": 36,
   "metadata": {},
   "outputs": [],
   "source": [
    "# Создаём модель\n",
    "regr = RandomForestRegressor(n_estimators=100)\n",
    "\n",
    "# Обучаем модель на тестовом наборе данных\n",
    "regr.fit(X_train, y_train)\n",
    "\n",
    "# Используем обученную модель для предсказания рейтинга ресторанов в тестовой выборке.\n",
    "# Предсказанные значения записываем в переменную y_pred\n",
    "y_pred = regr.predict(X_test)"
   ]
  },
  {
   "cell_type": "code",
   "execution_count": 37,
   "metadata": {},
   "outputs": [
    {
     "name": "stdout",
     "output_type": "stream",
     "text": [
      "MAE: 0.21187199999999998\n"
     ]
    }
   ],
   "source": [
    "# Сравниваем предсказанные значения (y_pred) с реальными (y_test), и смотрим насколько они в среднем отличаются\n",
    "# Метрика называется Mean Absolute Error (MAE) и показывает среднее отклонение предсказанных значений от фактических.\n",
    "print('MAE:', metrics.mean_absolute_error(y_test, y_pred))"
   ]
  }
 ],
 "metadata": {
  "celltoolbar": "Raw Cell Format",
  "kernelspec": {
   "display_name": "Python 3",
   "language": "python",
   "name": "python3"
  },
  "language_info": {
   "codemirror_mode": {
    "name": "ipython",
    "version": 3
   },
   "file_extension": ".py",
   "mimetype": "text/x-python",
   "name": "python",
   "nbconvert_exporter": "python",
   "pygments_lexer": "ipython3",
   "version": "3.8.3"
  }
 },
 "nbformat": 4,
 "nbformat_minor": 2
}
